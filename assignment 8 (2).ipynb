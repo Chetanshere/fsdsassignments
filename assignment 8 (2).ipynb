{
 "cells": [
  {
   "cell_type": "markdown",
   "id": "82d8e523",
   "metadata": {},
   "source": [
    "1) Is the Python Standard Library included with PyInputPlus?"
   ]
  },
  {
   "cell_type": "markdown",
   "id": "7b471300",
   "metadata": {},
   "source": [
    "no"
   ]
  },
  {
   "cell_type": "markdown",
   "id": "2be0a400",
   "metadata": {},
   "source": [
    "2) Why is PyInputPlus commonly imported with import pyinputplus as pypi?"
   ]
  },
  {
   "cell_type": "markdown",
   "id": "1363fb09",
   "metadata": {},
   "source": [
    "You can import the module with import pyinputplus as pyip so that you can enter a shorter name when calling the module’s functions"
   ]
  },
  {
   "cell_type": "markdown",
   "id": "186e7771",
   "metadata": {},
   "source": [
    "3) How do you distinguish between inputInt() and inputFloat()?"
   ]
  },
  {
   "cell_type": "markdown",
   "id": "57a1d656",
   "metadata": {},
   "source": [
    "inputint() takes integer values along with parameters like min, max, greater that , lower that etc.\n",
    "\n",
    "inputfloat() takes onle float point values"
   ]
  },
  {
   "cell_type": "markdown",
   "id": "691e1002",
   "metadata": {},
   "source": [
    "4) Using PyInputPlus, how do you ensure that the user enters a whole number between 0 and 99?"
   ]
  },
  {
   "cell_type": "markdown",
   "id": "f9268971",
   "metadata": {},
   "source": [
    "pyip.inputint(min=0,max=99)"
   ]
  },
  {
   "cell_type": "markdown",
   "id": "4e723c32",
   "metadata": {},
   "source": [
    "5) What is transferred to the keyword arguments allowRegexes and blockRegexes?"
   ]
  },
  {
   "cell_type": "markdown",
   "id": "74383398",
   "metadata": {},
   "source": [
    "a list of regular expression string"
   ]
  },
  {
   "cell_type": "markdown",
   "id": "96113c19",
   "metadata": {},
   "source": [
    "6) If a blank input is entered three times, what does inputStr(limit=3) do?"
   ]
  },
  {
   "cell_type": "markdown",
   "id": "ac7769d7",
   "metadata": {},
   "source": [
    " It returns the value None to the variable username "
   ]
  },
  {
   "cell_type": "markdown",
   "id": "dbdb83df",
   "metadata": {},
   "source": [
    "7) If blank input is entered three times, what does inputStr(limit=3, default=&#39;hello&#39;) do?"
   ]
  },
  {
   "cell_type": "markdown",
   "id": "8ae4e276",
   "metadata": {},
   "source": [
    "It returns the value N/A to the variable username"
   ]
  },
  {
   "cell_type": "code",
   "execution_count": null,
   "id": "ee1a4251",
   "metadata": {},
   "outputs": [],
   "source": []
  }
 ],
 "metadata": {
  "kernelspec": {
   "display_name": "Python 3 (ipykernel)",
   "language": "python",
   "name": "python3"
  },
  "language_info": {
   "codemirror_mode": {
    "name": "ipython",
    "version": 3
   },
   "file_extension": ".py",
   "mimetype": "text/x-python",
   "name": "python",
   "nbconvert_exporter": "python",
   "pygments_lexer": "ipython3",
   "version": "3.9.12"
  }
 },
 "nbformat": 4,
 "nbformat_minor": 5
}
